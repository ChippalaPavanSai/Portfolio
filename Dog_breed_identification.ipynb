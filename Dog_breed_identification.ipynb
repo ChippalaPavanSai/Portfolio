{
  "cells": [
    {
      "cell_type": "markdown",
      "metadata": {
        "id": "view-in-github",
        "colab_type": "text"
      },
      "source": [
        "<a href=\"https://colab.research.google.com/github/ChippalaPavanSai/Portfolio/blob/main/Dog_breed_identification.ipynb\" target=\"_parent\"><img src=\"https://colab.research.google.com/assets/colab-badge.svg\" alt=\"Open In Colab\"/></a>"
      ]
    },
    {
      "cell_type": "markdown",
      "metadata": {
        "id": "vjvkaRXCP2YR"
      },
      "source": [
        "Downloading database from Kaggle\n",
        "\n",
        "for downloading the database from kaggle the following  code helps but we need to uploade the kaggle api file in the doc"
      ]
    },
    {
      "cell_type": "code",
      "execution_count": null,
      "metadata": {
        "id": "xGzzrtZyPPEw"
      },
      "outputs": [],
      "source": [
        "! pip install kaggle\n",
        "! mkdir ~/.kaggle\n",
        "! cp kaggle.json ~/.kaggle/\n",
        "! chmod 600 ~/.kaggle/kaggle.json"
      ]
    },
    {
      "cell_type": "markdown",
      "metadata": {
        "id": "EE7Np4ZRRMAZ"
      },
      "source": [
        "As our project datasets are in kaggle competitions we can directlydownloade them with following code. The content is downloaded in a zip format."
      ]
    },
    {
      "cell_type": "code",
      "execution_count": null,
      "metadata": {
        "id": "GBMc1Px5RLOx"
      },
      "outputs": [],
      "source": [
        "! kaggle competitions download -c dog-breed-identification"
      ]
    },
    {
      "cell_type": "markdown",
      "metadata": {
        "id": "HldsNPpBV1hy"
      },
      "source": [
        "unziping the file"
      ]
    },
    {
      "cell_type": "code",
      "execution_count": null,
      "metadata": {
        "colab": {
          "background_save": true,
          "base_uri": "https://localhost:8080/"
        },
        "id": "qFegOnxdVzGm",
        "outputId": "28b23040-20f8-4808-da06-6924271d87b4"
      },
      "outputs": [
        {
          "metadata": {
            "tags": null
          },
          "name": "stdout",
          "output_type": "stream",
          "text": [
            "Archive:  dog-breed-identification.zip\n",
            "replace labels.csv? [y]es, [n]o, [A]ll, [N]one, [r]ename: "
          ]
        }
      ],
      "source": [
        "! unzip dog-breed-identification.zip"
      ]
    },
    {
      "cell_type": "markdown",
      "metadata": {
        "id": "nTGMvRKTWfPY"
      },
      "source": [
        "Importing required libraries"
      ]
    },
    {
      "cell_type": "code",
      "execution_count": null,
      "metadata": {
        "id": "Ux9nmqUCWeu2"
      },
      "outputs": [],
      "source": [
        "import cv2\n",
        "import numpy as np\n",
        "import pandas as pd\n",
        "from tensorflow.keras.preprocessing.image import ImageDataGenerator\n",
        "from sklearn.model_selection import train_test_split\n",
        "from sklearn.preprocessing import LabelEncoder\n",
        "from tensorflow.keras.models import load_model, Model\n",
        "from tensorflow.keras.optimizers import RMSprop\n",
        "from tensorflow.keras.layers import Dense, GlobalAveragePooling2D, Dropout, BatchNormalization\n",
        "from tensorflow.keras.applications.resnet_v2 import ResNet50V2, preprocess_input\n"
      ]
    },
    {
      "cell_type": "markdown",
      "metadata": {
        "id": "bZKwuPB8Yvh_"
      },
      "source": [
        "Reading Dataset\n",
        "\n",
        "\n",
        "As the lables and images are downloaded in various files, they are read by following code"
      ]
    },
    {
      "cell_type": "code",
      "execution_count": 7,
      "metadata": {
        "id": "MG8MnvXhY6gS",
        "colab": {
          "base_uri": "https://localhost:8080/"
        },
        "outputId": "026dcd3e-f322-4ecd-aecc-f5ebb0de4c3c"
      },
      "outputs": [
        {
          "metadata": {
            "tags": null
          },
          "name": "stdout",
          "output_type": "stream",
          "text": [
            "Total number ofunique Dog Breeds : 120\n"
          ]
        }
      ],
      "source": [
        "df_labels = pd.read_csv(\"labels.csv\")\n",
        "#storing traning and testing images folder location\n",
        "train_file='train/'\n",
        "test_file = 'test/'\n",
        "print(\"Total number ofunique Dog Breeds :\",len(df_labels.breed.unique()))\n"
      ]
    },
    {
      "cell_type": "markdown",
      "metadata": {
        "id": "USglMvH5f5Jj"
      },
      "source": [
        "Preprocessing\n",
        "This step includes the adding of .jpg to the images names anesizing the images."
      ]
    },
    {
      "cell_type": "code",
      "execution_count": 8,
      "metadata": {
        "id": "ezDBTBIhgDXe"
      },
      "outputs": [],
      "source": [
        "num_breeds = 60 #there are 120 breeds available but we take only 60 breeds for the training purpose.\n",
        "im_size = 224\n",
        "batch_size = 64\n",
        "encoder = LabelEncoder()\n",
        "breed_dict = list(df_labels['breed'].value_counts().keys())\n",
        "new_list = sorted(breed_dict,reverse=True)[:num_breeds*2+1:2]\n",
        "df_labels = df_labels.query('breed in @new_list')\n",
        "df_labels['img_file'] = df_labels['id'].apply(lambda x: x + \".jpg\")"
      ]
    },
    {
      "cell_type": "code",
      "execution_count": 9,
      "metadata": {
        "id": "7BzK2M6Lhmxe"
      },
      "outputs": [],
      "source": [
        "train_x = np.zeros((len(df_labels), im_size, im_size, 3), dtype='float32')\n",
        "for i, img_id in enumerate(df_labels['img_file']):\n",
        "  img = cv2.resize(cv2.imread(train_file+img_id,cv2.IMREAD_COLOR),((im_size,im_size)))\n",
        "  img_array = preprocess_input(np.expand_dims(np.array(img[...,::-1].astype(np.float32)).copy(), axis=0))\n",
        "  train_x[i] = img_array"
      ]
    },
    {
      "cell_type": "code",
      "execution_count": null,
      "metadata": {
        "id": "3kru-PSbhxHb"
      },
      "outputs": [],
      "source": [
        "train_y = encoder.fit_transform(df_labels[\"breed\"].values)"
      ]
    },
    {
      "cell_type": "markdown",
      "metadata": {
        "id": "7DJrKH5Nhy_T"
      },
      "source": [
        "TRAINING AND TESTING SPLIT\n",
        "\n",
        "\n",
        "Splitting the data into xtrain(independent train), xtest(independent test), ytrain(dependent train), ytest(dependent test)"
      ]
    },
    {
      "cell_type": "code",
      "execution_count": null,
      "metadata": {
        "id": "eA-IXd_qh1NM"
      },
      "outputs": [],
      "source": [
        "x_train, x_test, y_train, y_test = train_test_split(train_x,train_y,test_size=0.2,random_state=42)"
      ]
    },
    {
      "cell_type": "markdown",
      "metadata": {
        "id": "uluMPS3wh-QO"
      },
      "source": [
        "#AGUMENTATION\n",
        "\n",
        "It is a process of adding extra data to the given data. This process includes zoom range of image shift ranges, modes of filling of different images.\n",
        " ![aug.png](data:image/png;base64,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)"
      ]
    },
    {
      "cell_type": "code",
      "execution_count": 13,
      "metadata": {
        "id": "55-A1OHNiCWD"
      },
      "outputs": [],
      "source": [
        "train_datagen = ImageDataGenerator(rotation_range=45,\n",
        "                                   width_shift_range=0.2,\n",
        "                                   height_shift_range=0.2,\n",
        "                                   shear_range=0.2,\n",
        "                                   zoom_range=0.25,\n",
        "                                   horizontal_flip=True,\n",
        "                                   fill_mode='nearest')\n",
        "train_generator = train_datagen.flow(x_train,\n",
        "                                     y_train,\n",
        "                                     batch_size=batch_size)\n",
        "test_datagen = ImageDataGenerator()\n",
        "\n",
        "test_generator = test_datagen.flow(x_test,\n",
        "                                     y_test,\n",
        "                                     batch_size=batch_size)"
      ]
    },
    {
      "cell_type": "markdown",
      "metadata": {
        "id": "Rzl5kwR8iGoD"
      },
      "source": [
        "#BUILD THE MODEL\n",
        "\n",
        "For the model we use pre-trained ML Model named as **RESNET50V2**. Weights for our model are from **'ImageNet'** database. This type of technique is known as **Transfer learning**"
      ]
    },
    {
      "cell_type": "code",
      "execution_count": 15,
      "metadata": {
        "id": "XtW3usLniJv7"
      },
      "outputs": [],
      "source": [
        "resnet = ResNet50V2(input_shape = [im_size,im_size,3], weights='imagenet', include_top=False)\n",
        "\n",
        "for layer in resnet.layers:\n",
        "    layer.trainable = False\n",
        "\n",
        "x = resnet.output\n",
        "x = BatchNormalization()(x)\n",
        "x = GlobalAveragePooling2D()(x)\n",
        "x = Dropout(0.5)(x)\n",
        "\n",
        "x = Dense(1024, activation='relu')(x)\n",
        "x = Dropout(0.5)(x)"
      ]
    },
    {
      "cell_type": "code",
      "execution_count": null,
      "metadata": {
        "id": "FRojlrxNiSTa"
      },
      "outputs": [],
      "source": [
        "predictions = Dense(num_breeds, activation='softmax')(x)\n",
        "\n",
        "model = Model(inputs=resnet.input, outputs=predictions)\n",
        "#model.summary()"
      ]
    },
    {
      "cell_type": "markdown",
      "metadata": {
        "id": "D6gnDkTTiTkD"
      },
      "source": [
        "# TRAINING THE MODEL"
      ]
    },
    {
      "cell_type": "code",
      "execution_count": null,
      "metadata": {
        "id": "iFDYfFygiWT8",
        "colab": {
          "base_uri": "https://localhost:8080/"
        },
        "outputId": "b9a1b332-d426-45d2-a531-a095fb4c06a5"
      },
      "outputs": [
        {
          "output_type": "stream",
          "name": "stdout",
          "text": [
            "Epoch 1/100\n",
            "64/64 [==============================] - 863s 13s/step - loss: 2.2112 - accuracy: 0.4480 - val_loss: 0.7918 - val_accuracy: 0.7607\n",
            "Epoch 2/100\n",
            "64/64 [==============================] - 900s 14s/step - loss: 1.2977 - accuracy: 0.6273 - val_loss: 0.7075 - val_accuracy: 0.7832\n",
            "Epoch 3/100\n",
            " 2/64 [..............................] - ETA: 11:10 - loss: 1.1195 - accuracy: 0.6875"
          ]
        }
      ],
      "source": [
        "epochs = 100\n",
        "learning_rate = 1e-3\n",
        "\n",
        "optimizer = RMSprop(learning_rate=learning_rate,rho=0.9)\n",
        "model.compile(optimizer=optimizer,\n",
        "              loss='sparse_categorical_crossentropy',\n",
        "              metrics=[\"accuracy\"])\n",
        "\n",
        "hist = model.fit(train_generator,\n",
        "                 steps_per_epoch= x_train.shape[0] // batch_size,\n",
        "                 epochs= epochs,\n",
        "                 validation_data= test_generator,\n",
        "                 validation_steps= x_test.shape[0] // batch_size)\n",
        "\n",
        "model.save(\"model\")"
      ]
    },
    {
      "cell_type": "code",
      "execution_count": null,
      "metadata": {
        "id": "_a8Eq8sQiaDy"
      },
      "outputs": [],
      "source": [
        "#from IPython.core import history\n",
        "import matplotlib.pyplot as plt\n",
        "plt.plot(hist.history['accuracy'])\n",
        "plt.plot(hist.history['val_accuracy'])\n",
        "plt.title('model accuracy')\n",
        "plt.ylabel('accuracy')\n",
        "plt.xlabel('epoch')\n",
        "plt.legend(['Train', 'Validation'],loc='lower right')\n",
        "plt.show()\n",
        "# summarize model for loss\n",
        "plt.plot(hist.history['loss'])\n",
        "plt.plot(hist.history['val_loss'])\n",
        "plt.title('model loss')\n",
        "plt.ylabel('loss')\n",
        "plt.xlabel('epoch')\n",
        "plt.legend(['Train', 'Validation'], loc='upper right')\n",
        "plt.show()"
      ]
    },
    {
      "cell_type": "markdown",
      "metadata": {
        "id": "6zBOrGGAie5a"
      },
      "source": [
        "Test model"
      ]
    },
    {
      "cell_type": "code",
      "execution_count": null,
      "metadata": {
        "id": "-WNyY95HiggC"
      },
      "outputs": [],
      "source": [
        "from google.colab.patches import cv2_imshow\n",
        "model = load_model(\"model\")\n",
        "pred_img_path = '/content/pred1.webp'\n",
        "pred_img_array = cv2.resize(cv2.imread(pred_img_path,cv2.IMREAD_COLOR),((im_size,im_size)))\n",
        "pred_img_array = preprocess_input(np.expand_dims(np.array(pred_img_array[...,::-1].astype(np.float32)).copy(), axis=0))\n",
        "\n",
        "pred_val = model.predict(np.array(pred_img_array,dtype=\"float32\"))\n",
        "\n",
        "cv2_imshow(cv2.resize(cv2.imread(pred_img_path,cv2.IMREAD_COLOR),((im_size,im_size))))\n",
        "\n",
        "#display the predicted breed of dog\n",
        "pred_breed = sorted(new_list)[np.argmax(pred_val)]\n",
        "print(\"Predicted Breed for this Dog is :\",pred_breed)"
      ]
    },
    {
      "cell_type": "code",
      "execution_count": null,
      "metadata": {
        "id": "vxoVw3gcikGC"
      },
      "outputs": [],
      "source": [
        "pred_img_path1='/content/pred2.jpg'\n",
        "pred_img_array = cv2.resize(cv2.imread(pred_img_path1,cv2.IMREAD_COLOR),((im_size,im_size)))\n",
        "pred_img_array = preprocess_input(np.expand_dims(np.array(pred_img_array[...,::-1].astype(np.float32)).copy(), axis=0))\n",
        "\n",
        "pred_val = model.predict(np.array(pred_img_array,dtype=\"float32\"))\n",
        "\n",
        "cv2_imshow(cv2.resize(cv2.imread(pred_img_path1,cv2.IMREAD_COLOR),((im_size,im_size))))\n",
        "\n",
        "#display the predicted breed of dog\n",
        "pred_breed = sorted(new_list)[np.argmax(pred_val)]\n",
        "print(\"Predicted Breed for this Dog is :\",pred_breed)"
      ]
    }
  ],
  "metadata": {
    "colab": {
      "provenance": [],
      "authorship_tag": "ABX9TyNF5tEp8swVunbpGTy7tWBm",
      "include_colab_link": true
    },
    "kernelspec": {
      "display_name": "Python 3",
      "name": "python3"
    },
    "language_info": {
      "name": "python"
    }
  },
  "nbformat": 4,
  "nbformat_minor": 0
}